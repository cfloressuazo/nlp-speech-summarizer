{
 "cells": [
  {
   "cell_type": "markdown",
   "metadata": {},
   "source": [
    "# Tarea De Procesamiento de Lenguaje Natural\n",
    "Integrantes:\n",
    "- Cesar Flores\n",
    "- Juan Francisco Pinto\n",
    "- Fernando Garcia\n",
    "\n",
    "El código de la applicación se encuentra comentado (en inglés) en el archivo `app.py` de esta carpeta. El código posee múltiples funciones que están encargadas en procesar la carpeta `data` con los discursos, transformar estos en formato para entrenar un modelo de embedding `Word2Vec` y luego para procesar cualquier archivo o/u discurso para generar un resumen de este a través de la función `create_summary`.\n",
    "\n",
    "Se entrenaron dos modelos de prueba con distintos parametros, los que se pueden probar para generar el resumen y comparar. Para esto debes cargar el modelo con la función `load_w2v_model` con el path del modelo (i.e. `models/300-5-w2v.model`).\n",
    "\n",
    "Las intrucciones de como instalar el ambiente de python virtual y el proyecto completo están en el archivo README.md.\n",
    "\n",
    "A continuación se muestra la app con algunos ejemplos."
   ]
  },
  {
   "cell_type": "code",
   "execution_count": 1,
   "metadata": {},
   "outputs": [],
   "source": [
    "from app import (\n",
    "    get_sentences, get_speech_sentences, \n",
    "    train_w2v_model, load_w2v_model, \n",
    "    create_summary\n",
    ")"
   ]
  },
  {
   "cell_type": "markdown",
   "metadata": {},
   "source": [
    "## Entrenar un nuevo modelo"
   ]
  },
  {
   "cell_type": "code",
   "execution_count": 2,
   "metadata": {},
   "outputs": [
    {
     "name": "stderr",
     "output_type": "stream",
     "text": [
      "100%|██████████| 680/680 [00:00<00:00, 684.43it/s]\n"
     ]
    }
   ],
   "source": [
    "sentences = get_sentences()\n",
    "\n",
    "model = train_w2v_model(\n",
    "    sentences = sentences,\n",
    "    vector_size = 300,\n",
    "    window = 5,\n",
    "    epochs = 500,\n",
    "    model_fname = 'models/300-5-w2v.model'\n",
    ")\n"
   ]
  },
  {
   "cell_type": "markdown",
   "metadata": {},
   "source": [
    "## Preparar un discurso y generar un resumen\n"
   ]
  },
  {
   "cell_type": "code",
   "execution_count": 2,
   "metadata": {},
   "outputs": [
    {
     "name": "stderr",
     "output_type": "stream",
     "text": [
      "100%|██████████| 135/135 [00:00<00:00, 13024.59it/s]"
     ]
    },
    {
     "name": "stdout",
     "output_type": "stream",
     "text": [
      "**** Resumen ****\n",
      "\n",
      "El combate a la delincuencia sólo es eficaz cuando se enfrenta de manera integral, como un sistema, y todos sabemos que cuando en una cadena un eslabón no está conectado con el otro eslabón, la cadena no funciona.\n",
      "\n",
      "El terrorismo es un enemigo formidable, implacable, cruel y despiadado, que no respeta a nadie ni a nada, con tal de conseguir sus perversos objetivos.\n",
      "\n",
      "En nuestro país, y en esta región en particular, hemos vivido actos de terrorismo, y este Presidente no va a permanecer indiferente frente a ello.\n",
      "\n",
      "Quiero asegurar a mis compatriotas que el combate contra la delincuencia, el narcotráfico y el terrorismo, que sé muy bien que es la primera prioridad y preocupación de mis compatriotas, es también la primera prioridad y preocupación de este Gobierno, con un solo objetivo, un solo norte: devolverles a las familias chilenas su derecho a vivir con mayor paz, tranquilidad y seguridad en sus hogares, en las plazas, en los parques y en los lugares públicos.\n"
     ]
    },
    {
     "name": "stderr",
     "output_type": "stream",
     "text": [
      "\n"
     ]
    }
   ],
   "source": [
    "speech_sentences = get_speech_sentences(\n",
    "    speech_fn = 'data/DiscursosOriginales/72320.txt'\n",
    ")\n",
    "# Change the model path here if you want to use a different one.\n",
    "model, vocab = load_w2v_model(\n",
    "    model_fname = 'models/300-5-w2v.model'\n",
    ")\n",
    "\n",
    "speech_summary = create_summary(\n",
    "    model = model,\n",
    "    sentences = speech_sentences,\n",
    "    n_summary_sentences = 4,\n",
    "    similarity_threshold = 0.6,\n",
    "    pretty_print = False,\n",
    ")\n",
    "\n",
    "print(\"**** Resumen ****\")\n",
    "print()\n",
    "print(speech_summary)"
   ]
  },
  {
   "cell_type": "markdown",
   "metadata": {},
   "source": [
    "---"
   ]
  }
 ],
 "metadata": {
  "kernelspec": {
   "display_name": "Python 3.10.1 ('.venv': venv)",
   "language": "python",
   "name": "python3"
  },
  "language_info": {
   "codemirror_mode": {
    "name": "ipython",
    "version": 3
   },
   "file_extension": ".py",
   "mimetype": "text/x-python",
   "name": "python",
   "nbconvert_exporter": "python",
   "pygments_lexer": "ipython3",
   "version": "3.10.1"
  },
  "orig_nbformat": 4,
  "vscode": {
   "interpreter": {
    "hash": "d5cc3ce3a0c1f86aa2be5ee172c5861b948ba85a3358b1093743d4c44ada3242"
   }
  }
 },
 "nbformat": 4,
 "nbformat_minor": 2
}
